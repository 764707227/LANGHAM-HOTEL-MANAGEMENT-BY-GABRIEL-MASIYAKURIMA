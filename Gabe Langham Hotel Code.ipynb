{
 "cells": [
  {
   "cell_type": "code",
   "execution_count": 1,
   "id": "21e3c9a3-e409-4313-8e11-53a4a0a156c0",
   "metadata": {},
   "outputs": [
    {
     "name": "stdout",
     "output_type": "stream",
     "text": [
      "\n",
      "Hotel Management System\n",
      "1. Add Room\n",
      "2. Delete Room\n",
      "3. Display Room Details\n",
      "4. Allocate Rooms\n",
      "5. Display Room Allocation Details\n",
      "6. Billing and De-allocation\n",
      "7. Save Room Allocation to File\n",
      "8. Show Room Allocation from File\n",
      "9. Backup Room Allocation File\n",
      "0. Exit Application\n"
     ]
    },
    {
     "name": "stdin",
     "output_type": "stream",
     "text": [
      "Enter your choice:  1\n",
      "enter room number to add:  1\n",
      "enter room characteristics:  single bed\n"
     ]
    },
    {
     "name": "stdout",
     "output_type": "stream",
     "text": [
      "Room 1 added successfully.\n",
      "\n",
      "Hotel Management System\n",
      "1. Add Room\n",
      "2. Delete Room\n",
      "3. Display Room Details\n",
      "4. Allocate Rooms\n",
      "5. Display Room Allocation Details\n",
      "6. Billing and De-allocation\n",
      "7. Save Room Allocation to File\n",
      "8. Show Room Allocation from File\n",
      "9. Backup Room Allocation File\n",
      "0. Exit Application\n"
     ]
    },
    {
     "name": "stdin",
     "output_type": "stream",
     "text": [
      "Enter your choice:  4\n",
      "enter a room number to allocate:  1\n",
      "enter the customers name:  Gabriel Masiyakurima\n"
     ]
    },
    {
     "name": "stdout",
     "output_type": "stream",
     "text": [
      "Room 1 allocated to Gabriel Masiyakurima.\n",
      "\n",
      "Hotel Management System\n",
      "1. Add Room\n",
      "2. Delete Room\n",
      "3. Display Room Details\n",
      "4. Allocate Rooms\n",
      "5. Display Room Allocation Details\n",
      "6. Billing and De-allocation\n",
      "7. Save Room Allocation to File\n",
      "8. Show Room Allocation from File\n",
      "9. Backup Room Allocation File\n",
      "0. Exit Application\n"
     ]
    },
    {
     "name": "stdin",
     "output_type": "stream",
     "text": [
      "Enter your choice:  6\n",
      "enter the room number to deallocate:  1\n"
     ]
    },
    {
     "name": "stdout",
     "output_type": "stream",
     "text": [
      "Billing for Gabriel Masiyakurima for room 1.\n",
      "Room 1 deallocated.\n",
      "\n",
      "Hotel Management System\n",
      "1. Add Room\n",
      "2. Delete Room\n",
      "3. Display Room Details\n",
      "4. Allocate Rooms\n",
      "5. Display Room Allocation Details\n",
      "6. Billing and De-allocation\n",
      "7. Save Room Allocation to File\n",
      "8. Show Room Allocation from File\n",
      "9. Backup Room Allocation File\n",
      "0. Exit Application\n"
     ]
    },
    {
     "name": "stdin",
     "output_type": "stream",
     "text": [
      "Enter your choice:  1\n",
      "enter room number to add:  1\n",
      "enter room characteristics:  1 bed\n"
     ]
    },
    {
     "name": "stdout",
     "output_type": "stream",
     "text": [
      "Room 1 added successfully.\n",
      "\n",
      "Hotel Management System\n",
      "1. Add Room\n",
      "2. Delete Room\n",
      "3. Display Room Details\n",
      "4. Allocate Rooms\n",
      "5. Display Room Allocation Details\n",
      "6. Billing and De-allocation\n",
      "7. Save Room Allocation to File\n",
      "8. Show Room Allocation from File\n",
      "9. Backup Room Allocation File\n",
      "0. Exit Application\n"
     ]
    },
    {
     "name": "stdin",
     "output_type": "stream",
     "text": [
      "Enter your choice:  4\n",
      "enter a room number to allocate:  Gabriel Masiya\n",
      "enter the customers name:  Gabriel \n"
     ]
    },
    {
     "name": "stdout",
     "output_type": "stream",
     "text": [
      "Room Gabriel Masiya allocated to Gabriel .\n",
      "\n",
      "Hotel Management System\n",
      "1. Add Room\n",
      "2. Delete Room\n",
      "3. Display Room Details\n",
      "4. Allocate Rooms\n",
      "5. Display Room Allocation Details\n",
      "6. Billing and De-allocation\n",
      "7. Save Room Allocation to File\n",
      "8. Show Room Allocation from File\n",
      "9. Backup Room Allocation File\n",
      "0. Exit Application\n"
     ]
    },
    {
     "name": "stdin",
     "output_type": "stream",
     "text": [
      "Enter your choice:  7\n"
     ]
    },
    {
     "name": "stdout",
     "output_type": "stream",
     "text": [
      "Room allocations saved to file.\n",
      "\n",
      "Hotel Management System\n",
      "1. Add Room\n",
      "2. Delete Room\n",
      "3. Display Room Details\n",
      "4. Allocate Rooms\n",
      "5. Display Room Allocation Details\n",
      "6. Billing and De-allocation\n",
      "7. Save Room Allocation to File\n",
      "8. Show Room Allocation from File\n",
      "9. Backup Room Allocation File\n",
      "0. Exit Application\n"
     ]
    },
    {
     "name": "stdin",
     "output_type": "stream",
     "text": [
      "Enter your choice:  8\n"
     ]
    },
    {
     "name": "stdout",
     "output_type": "stream",
     "text": [
      "Room Allocations from file:\n",
      "Room Gabriel Masiya allocated to Gabriel \n",
      "\n",
      "\n",
      "Hotel Management System\n",
      "1. Add Room\n",
      "2. Delete Room\n",
      "3. Display Room Details\n",
      "4. Allocate Rooms\n",
      "5. Display Room Allocation Details\n",
      "6. Billing and De-allocation\n",
      "7. Save Room Allocation to File\n",
      "8. Show Room Allocation from File\n",
      "9. Backup Room Allocation File\n",
      "0. Exit Application\n"
     ]
    },
    {
     "name": "stdin",
     "output_type": "stream",
     "text": [
      "Enter your choice:  9\n"
     ]
    },
    {
     "name": "stdout",
     "output_type": "stream",
     "text": [
      "Backup created: LHMS_Studentid_Backup_20240713_162953.txt\n",
      "\n",
      "Hotel Management System\n",
      "1. Add Room\n",
      "2. Delete Room\n",
      "3. Display Room Details\n",
      "4. Allocate Rooms\n",
      "5. Display Room Allocation Details\n",
      "6. Billing and De-allocation\n",
      "7. Save Room Allocation to File\n",
      "8. Show Room Allocation from File\n",
      "9. Backup Room Allocation File\n",
      "0. Exit Application\n"
     ]
    },
    {
     "name": "stdin",
     "output_type": "stream",
     "text": [
      "Enter your choice:  0\n"
     ]
    },
    {
     "name": "stdout",
     "output_type": "stream",
     "text": [
      "Exiting application.\n"
     ]
    }
   ],
   "source": [
    "###### HotelManagementProgramGabrielMasiyakurima\n",
    "import os\n",
    "import datetime\n",
    "rooms = []\n",
    "allocations = {}\n",
    "\n",
    "def add_room():\n",
    "    try:\n",
    "        room_num = input('enter room number to add: ')\n",
    "        room_char = input('enter room characteristics: ')\n",
    "        rooms.append({'number': room_num, 'characteristics': room_char})\n",
    "        print(f\"Room {room_num} added successfully.\")\n",
    "    except (SyntaxError, ValueError, TypeError) as e:\n",
    "        print(f\"Error: {e}\")\n",
    "\n",
    "def delete_room():\n",
    "    try:\n",
    "        room_num = input('enter a room number to delete: ')\n",
    "        for room in rooms:\n",
    "            if room['number'] == room_num:\n",
    "                rooms.remove(room)\n",
    "                print(f\"Room {room_num} deleted successfully.\")\n",
    "                return\n",
    "        print(\"Room not found.\")\n",
    "    except (SyntaxError, ValueError, TypeError) as e:\n",
    "        print(f\"Error: {e}\")\n",
    "\n",
    "def display_room_details():\n",
    "    try:\n",
    "        room_num = input('enter any room number to display its details: ')\n",
    "        for room in rooms:\n",
    "            if room['number'] == room_num:\n",
    "                print(f\"Room {room_num} details: {room['characteristics']}\")\n",
    "                return\n",
    "        print(\"Room not found.\")\n",
    "    except (SyntaxError, ValueError, TypeError) as e:\n",
    "        print(f\"Error: {e}\")\n",
    "\n",
    "def room_allocation():\n",
    "    try:\n",
    "        room_num = input('enter a room number to allocate: ')\n",
    "        customer_name = input('enter the customers name: ')\n",
    "        if room_num in allocations:\n",
    "            print(f\"Room {room_num} is already allocated.\")\n",
    "        else:\n",
    "            allocations[room_num] = customer_name\n",
    "            print(f\"Room {room_num} allocated to {customer_name}.\")\n",
    "    except (SyntaxError, ValueError, TypeError) as e:\n",
    "        print(f\"Error: {e}\")\n",
    "\n",
    "\n",
    "def display_room_allocation_details():\n",
    "    try:\n",
    "        for room_num, customer_name in allocations.items():\n",
    "            print(f\"Room {room_num} is allocated to {customer_name}\")\n",
    "    except (SyntaxError, ValueError, TypeError) as e:\n",
    "        print(f\"Error: {e}\")\n",
    "\n",
    "def billing_and_deallocation():\n",
    "    try:\n",
    "        room_num = input('enter the room number to deallocate: ')\n",
    "        if room_num in allocations:\n",
    "            customer_name = allocations.pop(room_num)\n",
    "            print(f\"Billing for {customer_name} for room {room_num}.\")\n",
    "            print(f\"Room {room_num} deallocated.\")\n",
    "        else:\n",
    "            print('the room has not been allocated')\n",
    "    except (SyntaxError, ValueError, TypeError) as e:\n",
    "        print(f\"Error: {e}\")\n",
    "\n",
    "def save_allocation_to_file():\n",
    "    try:\n",
    "        with open(\"LHMS_Studentid764707227.txt\", \"w\") as file:\n",
    "            for room_num, customer_name in allocations.items():\n",
    "                file.write(f\"Room {room_num} allocated to {customer_name}\\n\")\n",
    "        print(\"Room allocations saved to file.\")\n",
    "    except (IOError, FileNotFoundError) as e:\n",
    "        print(f\"Error: {e}\")\n",
    "\n",
    "def show_allocation_from_file():\n",
    "    try:\n",
    "        if os.path.exists(\"LHMS_Studentid764707227.txt\"):\n",
    "            with open(\"LHMS_Studentid764707227.txt\", \"r\") as file:\n",
    "                content = file.read()\n",
    "                print(\"Room Allocations from file:\")\n",
    "                print(content)\n",
    "        else:\n",
    "            print(\"File not found.\")\n",
    "    except (IOError, FileNotFoundError) as e:\n",
    "        print(f\"Error: {e}\")\n",
    "\n",
    "def backup_allocation_file():\n",
    "    try:\n",
    "        if os.path.exists(\"LHMS_Studentid764707227.txt\"):\n",
    "            backup_filename = f\"LHMS_Studentid_Backup_{datetime.datetime.now().strftime('%Y%m%d_%H%M%S')}.txt\"\n",
    "            with open(\"LHMS_Studentid764707227.txt\", \"r\") as original, open(backup_filename, \"w\") as backup:\n",
    "                content = original.read()\n",
    "                backup.write(content)\n",
    "            os.remove(\"LHMS_Studentid764707227.txt\")\n",
    "            print(f\"Backup created: {backup_filename}\")\n",
    "        else:\n",
    "            print(\"File not found.\")\n",
    "    except (IOError, FileNotFoundError) as e:\n",
    "        print(f\"Error: {e}\")\n",
    "\n",
    "def main():\n",
    "    while True:\n",
    "        try:\n",
    "            print(\"\\nHotel Management System\")\n",
    "            print(\"1. Add Room\")\n",
    "            print(\"2. Delete Room\")\n",
    "            print(\"3. Display Room Details\")\n",
    "            print(\"4. Allocate Rooms\")\n",
    "            print(\"5. Display Room Allocation Details\")\n",
    "            print(\"6. Billing and De-allocation\")\n",
    "            print(\"7. Save Room Allocation to File\")\n",
    "            print(\"8. Show Room Allocation from File\")\n",
    "            print(\"9. Backup Room Allocation File\")\n",
    "            print(\"0. Exit Application\")\n",
    "            choice = input(\"Enter your choice: \")\n",
    " \n",
    "            \n",
    "            if choice == '1':\n",
    "                add_room()\n",
    "            elif choice == '2':\n",
    "                delete_room()\n",
    "            elif choice == '3':\n",
    "                display_room_details()\n",
    "            elif choice == '4':\n",
    "                room_allocation()\n",
    "            elif choice == '5':\n",
    "                display_room_allocation_details()\n",
    "            elif choice == '6':\n",
    "                billing_and_deallocation()\n",
    "            elif choice == '7':\n",
    "                save_allocation_to_file()\n",
    "            elif choice == '8':\n",
    "                show_allocation_from_file()\n",
    "            elif choice == '9':\n",
    "                backup_allocation_file()\n",
    "            elif choice == '0':\n",
    "                print(\"Exiting application.\")\n",
    "                break\n",
    "            else:\n",
    "                print(\"Invalid choice, please try again.\")\n",
    "        except (SyntaxError, ValueError, IndexError, NameError, TypeError, OverflowError, EOFError, ImportError) as e:\n",
    "            print(f\"Error: {e}\")\n",
    "\n",
    "if __name__ == \"__main__\":\n",
    "    main()"
   ]
  },
  {
   "cell_type": "code",
   "execution_count": null,
   "id": "1726df3b-1033-4103-9886-831054d3a206",
   "metadata": {},
   "outputs": [],
   "source": []
  },
  {
   "cell_type": "code",
   "execution_count": null,
   "id": "60fd8079-429e-4a64-8727-f418213ad4e3",
   "metadata": {},
   "outputs": [],
   "source": []
  },
  {
   "cell_type": "code",
   "execution_count": null,
   "id": "47ea01c9-6da9-4116-a3ff-7b11e4fa800f",
   "metadata": {},
   "outputs": [],
   "source": []
  },
  {
   "cell_type": "code",
   "execution_count": null,
   "id": "9f17f6e8-1e51-4b3c-84d0-07d2a7905887",
   "metadata": {},
   "outputs": [],
   "source": []
  },
  {
   "cell_type": "code",
   "execution_count": null,
   "id": "034f56c5-9789-48bf-8a54-ff1f5f73625e",
   "metadata": {},
   "outputs": [],
   "source": []
  },
  {
   "cell_type": "code",
   "execution_count": null,
   "id": "7fbd4c2e-bffb-4779-a37c-e999b513921a",
   "metadata": {},
   "outputs": [],
   "source": []
  }
 ],
 "metadata": {
  "kernelspec": {
   "display_name": "Python 3 (ipykernel)",
   "language": "python",
   "name": "python3"
  },
  "language_info": {
   "codemirror_mode": {
    "name": "ipython",
    "version": 3
   },
   "file_extension": ".py",
   "mimetype": "text/x-python",
   "name": "python",
   "nbconvert_exporter": "python",
   "pygments_lexer": "ipython3",
   "version": "3.11.7"
  }
 },
 "nbformat": 4,
 "nbformat_minor": 5
}
